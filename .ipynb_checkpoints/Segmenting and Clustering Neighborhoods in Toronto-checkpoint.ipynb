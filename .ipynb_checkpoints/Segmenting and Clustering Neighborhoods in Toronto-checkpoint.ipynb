{
 "cells": [
  {
   "cell_type": "markdown",
   "metadata": {},
   "source": [
    "# Week 3 Peer Graded Assignment - Segmenting and Clustering toronto_merged in Toronto"
   ]
  },
  {
   "cell_type": "markdown",
   "metadata": {},
   "source": [
    "## 1. Scraping the wikipedia page and transforming the data"
   ]
  },
  {
   "cell_type": "markdown",
   "metadata": {},
   "source": [
    "Import the needed libraries"
   ]
  },
  {
   "cell_type": "code",
   "execution_count": 9,
   "metadata": {},
   "outputs": [],
   "source": [
    "import pandas as pd\n",
    "import requests\n",
    "#from bs4 import BeautifulSoup"
   ]
  },
  {
   "cell_type": "markdown",
   "metadata": {},
   "source": [
    "Scrape the postal code table using pandas. The first item in object is read into the dataframe, which is the table."
   ]
  },
  {
   "cell_type": "code",
   "execution_count": 13,
   "metadata": {},
   "outputs": [
    {
     "data": {
      "text/html": [
       "<div>\n",
       "<style scoped>\n",
       "    .dataframe tbody tr th:only-of-type {\n",
       "        vertical-align: middle;\n",
       "    }\n",
       "\n",
       "    .dataframe tbody tr th {\n",
       "        vertical-align: top;\n",
       "    }\n",
       "\n",
       "    .dataframe thead th {\n",
       "        text-align: right;\n",
       "    }\n",
       "</style>\n",
       "<table border=\"1\" class=\"dataframe\">\n",
       "  <thead>\n",
       "    <tr style=\"text-align: right;\">\n",
       "      <th></th>\n",
       "      <th>Postal Code</th>\n",
       "      <th>Borough</th>\n",
       "      <th>Neighbourhood</th>\n",
       "    </tr>\n",
       "  </thead>\n",
       "  <tbody>\n",
       "    <tr>\n",
       "      <th>0</th>\n",
       "      <td>M1A</td>\n",
       "      <td>Not assigned</td>\n",
       "      <td>Not assigned</td>\n",
       "    </tr>\n",
       "    <tr>\n",
       "      <th>1</th>\n",
       "      <td>M2A</td>\n",
       "      <td>Not assigned</td>\n",
       "      <td>Not assigned</td>\n",
       "    </tr>\n",
       "    <tr>\n",
       "      <th>2</th>\n",
       "      <td>M3A</td>\n",
       "      <td>North York</td>\n",
       "      <td>Parkwoods</td>\n",
       "    </tr>\n",
       "    <tr>\n",
       "      <th>3</th>\n",
       "      <td>M4A</td>\n",
       "      <td>North York</td>\n",
       "      <td>Victoria Village</td>\n",
       "    </tr>\n",
       "    <tr>\n",
       "      <th>4</th>\n",
       "      <td>M5A</td>\n",
       "      <td>Downtown Toronto</td>\n",
       "      <td>Regent Park, Harbourfront</td>\n",
       "    </tr>\n",
       "    <tr>\n",
       "      <th>...</th>\n",
       "      <td>...</td>\n",
       "      <td>...</td>\n",
       "      <td>...</td>\n",
       "    </tr>\n",
       "    <tr>\n",
       "      <th>175</th>\n",
       "      <td>M5Z</td>\n",
       "      <td>Not assigned</td>\n",
       "      <td>Not assigned</td>\n",
       "    </tr>\n",
       "    <tr>\n",
       "      <th>176</th>\n",
       "      <td>M6Z</td>\n",
       "      <td>Not assigned</td>\n",
       "      <td>Not assigned</td>\n",
       "    </tr>\n",
       "    <tr>\n",
       "      <th>177</th>\n",
       "      <td>M7Z</td>\n",
       "      <td>Not assigned</td>\n",
       "      <td>Not assigned</td>\n",
       "    </tr>\n",
       "    <tr>\n",
       "      <th>178</th>\n",
       "      <td>M8Z</td>\n",
       "      <td>Etobicoke</td>\n",
       "      <td>Mimico NW, The Queensway West, South of Bloor,...</td>\n",
       "    </tr>\n",
       "    <tr>\n",
       "      <th>179</th>\n",
       "      <td>M9Z</td>\n",
       "      <td>Not assigned</td>\n",
       "      <td>Not assigned</td>\n",
       "    </tr>\n",
       "  </tbody>\n",
       "</table>\n",
       "<p>180 rows × 3 columns</p>\n",
       "</div>"
      ],
      "text/plain": [
       "    Postal Code           Borough  \\\n",
       "0           M1A      Not assigned   \n",
       "1           M2A      Not assigned   \n",
       "2           M3A        North York   \n",
       "3           M4A        North York   \n",
       "4           M5A  Downtown Toronto   \n",
       "..          ...               ...   \n",
       "175         M5Z      Not assigned   \n",
       "176         M6Z      Not assigned   \n",
       "177         M7Z      Not assigned   \n",
       "178         M8Z         Etobicoke   \n",
       "179         M9Z      Not assigned   \n",
       "\n",
       "                                         Neighbourhood  \n",
       "0                                         Not assigned  \n",
       "1                                         Not assigned  \n",
       "2                                            Parkwoods  \n",
       "3                                     Victoria Village  \n",
       "4                            Regent Park, Harbourfront  \n",
       "..                                                 ...  \n",
       "175                                       Not assigned  \n",
       "176                                       Not assigned  \n",
       "177                                       Not assigned  \n",
       "178  Mimico NW, The Queensway West, South of Bloor,...  \n",
       "179                                       Not assigned  \n",
       "\n",
       "[180 rows x 3 columns]"
      ]
     },
     "execution_count": 13,
     "metadata": {},
     "output_type": "execute_result"
    }
   ],
   "source": [
    "df = pd.read_html(\"https://en.wikipedia.org/wiki/List_of_postal_codes_of_Canada:_M\")[0]\n",
    "df"
   ]
  },
  {
   "cell_type": "markdown",
   "metadata": {},
   "source": [
    "First we remove the rows where Borough has Not Assigned value."
   ]
  },
  {
   "cell_type": "code",
   "execution_count": 14,
   "metadata": {},
   "outputs": [],
   "source": [
    "to_drop = ['Not assigned']"
   ]
  },
  {
   "cell_type": "code",
   "execution_count": 15,
   "metadata": {},
   "outputs": [
    {
     "data": {
      "text/html": [
       "<div>\n",
       "<style scoped>\n",
       "    .dataframe tbody tr th:only-of-type {\n",
       "        vertical-align: middle;\n",
       "    }\n",
       "\n",
       "    .dataframe tbody tr th {\n",
       "        vertical-align: top;\n",
       "    }\n",
       "\n",
       "    .dataframe thead th {\n",
       "        text-align: right;\n",
       "    }\n",
       "</style>\n",
       "<table border=\"1\" class=\"dataframe\">\n",
       "  <thead>\n",
       "    <tr style=\"text-align: right;\">\n",
       "      <th></th>\n",
       "      <th>Postal Code</th>\n",
       "      <th>Borough</th>\n",
       "      <th>Neighbourhood</th>\n",
       "    </tr>\n",
       "  </thead>\n",
       "  <tbody>\n",
       "    <tr>\n",
       "      <th>0</th>\n",
       "      <td>M3A</td>\n",
       "      <td>North York</td>\n",
       "      <td>Parkwoods</td>\n",
       "    </tr>\n",
       "    <tr>\n",
       "      <th>1</th>\n",
       "      <td>M4A</td>\n",
       "      <td>North York</td>\n",
       "      <td>Victoria Village</td>\n",
       "    </tr>\n",
       "    <tr>\n",
       "      <th>2</th>\n",
       "      <td>M5A</td>\n",
       "      <td>Downtown Toronto</td>\n",
       "      <td>Regent Park, Harbourfront</td>\n",
       "    </tr>\n",
       "    <tr>\n",
       "      <th>3</th>\n",
       "      <td>M6A</td>\n",
       "      <td>North York</td>\n",
       "      <td>Lawrence Manor, Lawrence Heights</td>\n",
       "    </tr>\n",
       "    <tr>\n",
       "      <th>4</th>\n",
       "      <td>M7A</td>\n",
       "      <td>Downtown Toronto</td>\n",
       "      <td>Queen's Park, Ontario Provincial Government</td>\n",
       "    </tr>\n",
       "    <tr>\n",
       "      <th>...</th>\n",
       "      <td>...</td>\n",
       "      <td>...</td>\n",
       "      <td>...</td>\n",
       "    </tr>\n",
       "    <tr>\n",
       "      <th>98</th>\n",
       "      <td>M8X</td>\n",
       "      <td>Etobicoke</td>\n",
       "      <td>The Kingsway, Montgomery Road, Old Mill North</td>\n",
       "    </tr>\n",
       "    <tr>\n",
       "      <th>99</th>\n",
       "      <td>M4Y</td>\n",
       "      <td>Downtown Toronto</td>\n",
       "      <td>Church and Wellesley</td>\n",
       "    </tr>\n",
       "    <tr>\n",
       "      <th>100</th>\n",
       "      <td>M7Y</td>\n",
       "      <td>East Toronto</td>\n",
       "      <td>Business reply mail Processing Centre, South C...</td>\n",
       "    </tr>\n",
       "    <tr>\n",
       "      <th>101</th>\n",
       "      <td>M8Y</td>\n",
       "      <td>Etobicoke</td>\n",
       "      <td>Old Mill South, King's Mill Park, Sunnylea, Hu...</td>\n",
       "    </tr>\n",
       "    <tr>\n",
       "      <th>102</th>\n",
       "      <td>M8Z</td>\n",
       "      <td>Etobicoke</td>\n",
       "      <td>Mimico NW, The Queensway West, South of Bloor,...</td>\n",
       "    </tr>\n",
       "  </tbody>\n",
       "</table>\n",
       "<p>103 rows × 3 columns</p>\n",
       "</div>"
      ],
      "text/plain": [
       "    Postal Code           Borough  \\\n",
       "0           M3A        North York   \n",
       "1           M4A        North York   \n",
       "2           M5A  Downtown Toronto   \n",
       "3           M6A        North York   \n",
       "4           M7A  Downtown Toronto   \n",
       "..          ...               ...   \n",
       "98          M8X         Etobicoke   \n",
       "99          M4Y  Downtown Toronto   \n",
       "100         M7Y      East Toronto   \n",
       "101         M8Y         Etobicoke   \n",
       "102         M8Z         Etobicoke   \n",
       "\n",
       "                                         Neighbourhood  \n",
       "0                                            Parkwoods  \n",
       "1                                     Victoria Village  \n",
       "2                            Regent Park, Harbourfront  \n",
       "3                     Lawrence Manor, Lawrence Heights  \n",
       "4          Queen's Park, Ontario Provincial Government  \n",
       "..                                                 ...  \n",
       "98       The Kingsway, Montgomery Road, Old Mill North  \n",
       "99                                Church and Wellesley  \n",
       "100  Business reply mail Processing Centre, South C...  \n",
       "101  Old Mill South, King's Mill Park, Sunnylea, Hu...  \n",
       "102  Mimico NW, The Queensway West, South of Bloor,...  \n",
       "\n",
       "[103 rows x 3 columns]"
      ]
     },
     "execution_count": 15,
     "metadata": {},
     "output_type": "execute_result"
    }
   ],
   "source": [
    "df2 = df[~df['Borough'].isin(to_drop)] #df2 is df where the isin() check is false\n",
    "df2 = df2.reset_index(drop = True)\n",
    "df2"
   ]
  },
  {
   "cell_type": "markdown",
   "metadata": {},
   "source": [
    "Check if any Neighbourhoods have Not assigned value after."
   ]
  },
  {
   "cell_type": "code",
   "execution_count": 16,
   "metadata": {},
   "outputs": [
    {
     "data": {
      "text/html": [
       "<div>\n",
       "<style scoped>\n",
       "    .dataframe tbody tr th:only-of-type {\n",
       "        vertical-align: middle;\n",
       "    }\n",
       "\n",
       "    .dataframe tbody tr th {\n",
       "        vertical-align: top;\n",
       "    }\n",
       "\n",
       "    .dataframe thead th {\n",
       "        text-align: right;\n",
       "    }\n",
       "</style>\n",
       "<table border=\"1\" class=\"dataframe\">\n",
       "  <thead>\n",
       "    <tr style=\"text-align: right;\">\n",
       "      <th></th>\n",
       "      <th>Postal Code</th>\n",
       "      <th>Borough</th>\n",
       "      <th>Neighbourhood</th>\n",
       "    </tr>\n",
       "  </thead>\n",
       "  <tbody>\n",
       "  </tbody>\n",
       "</table>\n",
       "</div>"
      ],
      "text/plain": [
       "Empty DataFrame\n",
       "Columns: [Postal Code, Borough, Neighbourhood]\n",
       "Index: []"
      ]
     },
     "execution_count": 16,
     "metadata": {},
     "output_type": "execute_result"
    }
   ],
   "source": [
    "df2.loc[df2[\"Neighbourhood\"] == \"Not assigned\"]"
   ]
  },
  {
   "cell_type": "markdown",
   "metadata": {},
   "source": [
    "There are no such rows currently. Such row may be added in the future, so as a safety measure we change Not assigned Neighbourhood values to the value of Borough."
   ]
  },
  {
   "cell_type": "code",
   "execution_count": 17,
   "metadata": {},
   "outputs": [
    {
     "data": {
      "text/html": [
       "<div>\n",
       "<style scoped>\n",
       "    .dataframe tbody tr th:only-of-type {\n",
       "        vertical-align: middle;\n",
       "    }\n",
       "\n",
       "    .dataframe tbody tr th {\n",
       "        vertical-align: top;\n",
       "    }\n",
       "\n",
       "    .dataframe thead th {\n",
       "        text-align: right;\n",
       "    }\n",
       "</style>\n",
       "<table border=\"1\" class=\"dataframe\">\n",
       "  <thead>\n",
       "    <tr style=\"text-align: right;\">\n",
       "      <th></th>\n",
       "      <th>Postal Code</th>\n",
       "      <th>Borough</th>\n",
       "      <th>Neighbourhood</th>\n",
       "    </tr>\n",
       "  </thead>\n",
       "  <tbody>\n",
       "    <tr>\n",
       "      <th>0</th>\n",
       "      <td>M3A</td>\n",
       "      <td>North York</td>\n",
       "      <td>Parkwoods</td>\n",
       "    </tr>\n",
       "    <tr>\n",
       "      <th>1</th>\n",
       "      <td>M4A</td>\n",
       "      <td>North York</td>\n",
       "      <td>Victoria Village</td>\n",
       "    </tr>\n",
       "    <tr>\n",
       "      <th>2</th>\n",
       "      <td>M5A</td>\n",
       "      <td>Downtown Toronto</td>\n",
       "      <td>Regent Park, Harbourfront</td>\n",
       "    </tr>\n",
       "    <tr>\n",
       "      <th>3</th>\n",
       "      <td>M6A</td>\n",
       "      <td>North York</td>\n",
       "      <td>Lawrence Manor, Lawrence Heights</td>\n",
       "    </tr>\n",
       "    <tr>\n",
       "      <th>4</th>\n",
       "      <td>M7A</td>\n",
       "      <td>Downtown Toronto</td>\n",
       "      <td>Queen's Park, Ontario Provincial Government</td>\n",
       "    </tr>\n",
       "    <tr>\n",
       "      <th>...</th>\n",
       "      <td>...</td>\n",
       "      <td>...</td>\n",
       "      <td>...</td>\n",
       "    </tr>\n",
       "    <tr>\n",
       "      <th>98</th>\n",
       "      <td>M8X</td>\n",
       "      <td>Etobicoke</td>\n",
       "      <td>The Kingsway, Montgomery Road, Old Mill North</td>\n",
       "    </tr>\n",
       "    <tr>\n",
       "      <th>99</th>\n",
       "      <td>M4Y</td>\n",
       "      <td>Downtown Toronto</td>\n",
       "      <td>Church and Wellesley</td>\n",
       "    </tr>\n",
       "    <tr>\n",
       "      <th>100</th>\n",
       "      <td>M7Y</td>\n",
       "      <td>East Toronto</td>\n",
       "      <td>Business reply mail Processing Centre, South C...</td>\n",
       "    </tr>\n",
       "    <tr>\n",
       "      <th>101</th>\n",
       "      <td>M8Y</td>\n",
       "      <td>Etobicoke</td>\n",
       "      <td>Old Mill South, King's Mill Park, Sunnylea, Hu...</td>\n",
       "    </tr>\n",
       "    <tr>\n",
       "      <th>102</th>\n",
       "      <td>M8Z</td>\n",
       "      <td>Etobicoke</td>\n",
       "      <td>Mimico NW, The Queensway West, South of Bloor,...</td>\n",
       "    </tr>\n",
       "  </tbody>\n",
       "</table>\n",
       "<p>103 rows × 3 columns</p>\n",
       "</div>"
      ],
      "text/plain": [
       "    Postal Code           Borough  \\\n",
       "0           M3A        North York   \n",
       "1           M4A        North York   \n",
       "2           M5A  Downtown Toronto   \n",
       "3           M6A        North York   \n",
       "4           M7A  Downtown Toronto   \n",
       "..          ...               ...   \n",
       "98          M8X         Etobicoke   \n",
       "99          M4Y  Downtown Toronto   \n",
       "100         M7Y      East Toronto   \n",
       "101         M8Y         Etobicoke   \n",
       "102         M8Z         Etobicoke   \n",
       "\n",
       "                                         Neighbourhood  \n",
       "0                                            Parkwoods  \n",
       "1                                     Victoria Village  \n",
       "2                            Regent Park, Harbourfront  \n",
       "3                     Lawrence Manor, Lawrence Heights  \n",
       "4          Queen's Park, Ontario Provincial Government  \n",
       "..                                                 ...  \n",
       "98       The Kingsway, Montgomery Road, Old Mill North  \n",
       "99                                Church and Wellesley  \n",
       "100  Business reply mail Processing Centre, South C...  \n",
       "101  Old Mill South, King's Mill Park, Sunnylea, Hu...  \n",
       "102  Mimico NW, The Queensway West, South of Bloor,...  \n",
       "\n",
       "[103 rows x 3 columns]"
      ]
     },
     "execution_count": 17,
     "metadata": {},
     "output_type": "execute_result"
    }
   ],
   "source": [
    "df2.loc[df2[\"Neighbourhood\"] == \"Not assigned\", \"Neighbourhood\"] = df2.loc[df2[\"Neighbourhood\"] == \"Not assigned\",\"Borough\"]\n",
    "df2"
   ]
  },
  {
   "cell_type": "markdown",
   "metadata": {},
   "source": [
    "Now that we ensured that there are no Not assigned values, we can group the rows based on Postal Code. This is another safety measure as as the time of writing this, the wikipedia page already grouped the rows."
   ]
  },
  {
   "cell_type": "code",
   "execution_count": 18,
   "metadata": {},
   "outputs": [
    {
     "data": {
      "text/html": [
       "<div>\n",
       "<style scoped>\n",
       "    .dataframe tbody tr th:only-of-type {\n",
       "        vertical-align: middle;\n",
       "    }\n",
       "\n",
       "    .dataframe tbody tr th {\n",
       "        vertical-align: top;\n",
       "    }\n",
       "\n",
       "    .dataframe thead th {\n",
       "        text-align: right;\n",
       "    }\n",
       "</style>\n",
       "<table border=\"1\" class=\"dataframe\">\n",
       "  <thead>\n",
       "    <tr style=\"text-align: right;\">\n",
       "      <th></th>\n",
       "      <th>Postal Code</th>\n",
       "      <th>Borough</th>\n",
       "      <th>Neighbourhood</th>\n",
       "    </tr>\n",
       "  </thead>\n",
       "  <tbody>\n",
       "    <tr>\n",
       "      <th>0</th>\n",
       "      <td>M1B</td>\n",
       "      <td>Scarborough</td>\n",
       "      <td>Malvern, Rouge</td>\n",
       "    </tr>\n",
       "    <tr>\n",
       "      <th>1</th>\n",
       "      <td>M1C</td>\n",
       "      <td>Scarborough</td>\n",
       "      <td>Rouge Hill, Port Union, Highland Creek</td>\n",
       "    </tr>\n",
       "    <tr>\n",
       "      <th>2</th>\n",
       "      <td>M1E</td>\n",
       "      <td>Scarborough</td>\n",
       "      <td>Guildwood, Morningside, West Hill</td>\n",
       "    </tr>\n",
       "    <tr>\n",
       "      <th>3</th>\n",
       "      <td>M1G</td>\n",
       "      <td>Scarborough</td>\n",
       "      <td>Woburn</td>\n",
       "    </tr>\n",
       "    <tr>\n",
       "      <th>4</th>\n",
       "      <td>M1H</td>\n",
       "      <td>Scarborough</td>\n",
       "      <td>Cedarbrae</td>\n",
       "    </tr>\n",
       "    <tr>\n",
       "      <th>...</th>\n",
       "      <td>...</td>\n",
       "      <td>...</td>\n",
       "      <td>...</td>\n",
       "    </tr>\n",
       "    <tr>\n",
       "      <th>98</th>\n",
       "      <td>M9N</td>\n",
       "      <td>York</td>\n",
       "      <td>Weston</td>\n",
       "    </tr>\n",
       "    <tr>\n",
       "      <th>99</th>\n",
       "      <td>M9P</td>\n",
       "      <td>Etobicoke</td>\n",
       "      <td>Westmount</td>\n",
       "    </tr>\n",
       "    <tr>\n",
       "      <th>100</th>\n",
       "      <td>M9R</td>\n",
       "      <td>Etobicoke</td>\n",
       "      <td>Kingsview Village, St. Phillips, Martin Grove ...</td>\n",
       "    </tr>\n",
       "    <tr>\n",
       "      <th>101</th>\n",
       "      <td>M9V</td>\n",
       "      <td>Etobicoke</td>\n",
       "      <td>South Steeles, Silverstone, Humbergate, Jamest...</td>\n",
       "    </tr>\n",
       "    <tr>\n",
       "      <th>102</th>\n",
       "      <td>M9W</td>\n",
       "      <td>Etobicoke</td>\n",
       "      <td>Northwest, West Humber - Clairville</td>\n",
       "    </tr>\n",
       "  </tbody>\n",
       "</table>\n",
       "<p>103 rows × 3 columns</p>\n",
       "</div>"
      ],
      "text/plain": [
       "    Postal Code      Borough  \\\n",
       "0           M1B  Scarborough   \n",
       "1           M1C  Scarborough   \n",
       "2           M1E  Scarborough   \n",
       "3           M1G  Scarborough   \n",
       "4           M1H  Scarborough   \n",
       "..          ...          ...   \n",
       "98          M9N         York   \n",
       "99          M9P    Etobicoke   \n",
       "100         M9R    Etobicoke   \n",
       "101         M9V    Etobicoke   \n",
       "102         M9W    Etobicoke   \n",
       "\n",
       "                                         Neighbourhood  \n",
       "0                                       Malvern, Rouge  \n",
       "1               Rouge Hill, Port Union, Highland Creek  \n",
       "2                    Guildwood, Morningside, West Hill  \n",
       "3                                               Woburn  \n",
       "4                                            Cedarbrae  \n",
       "..                                                 ...  \n",
       "98                                              Weston  \n",
       "99                                           Westmount  \n",
       "100  Kingsview Village, St. Phillips, Martin Grove ...  \n",
       "101  South Steeles, Silverstone, Humbergate, Jamest...  \n",
       "102                Northwest, West Humber - Clairville  \n",
       "\n",
       "[103 rows x 3 columns]"
      ]
     },
     "execution_count": 18,
     "metadata": {},
     "output_type": "execute_result"
    }
   ],
   "source": [
    "toronto = df2.groupby(['Postal Code', 'Borough']).agg(lambda col: ','.join(col)).reset_index()\n",
    "toronto"
   ]
  },
  {
   "cell_type": "markdown",
   "metadata": {},
   "source": [
    "The shape of the resulting dataframe:"
   ]
  },
  {
   "cell_type": "code",
   "execution_count": 19,
   "metadata": {},
   "outputs": [
    {
     "data": {
      "text/plain": [
       "(103, 3)"
      ]
     },
     "execution_count": 19,
     "metadata": {},
     "output_type": "execute_result"
    }
   ],
   "source": [
    "toronto.shape"
   ]
  },
  {
   "cell_type": "markdown",
   "metadata": {},
   "source": [
    "## 2. Getting the coordinates of neighbourhoods"
   ]
  },
  {
   "cell_type": "markdown",
   "metadata": {},
   "source": [
    "Since I couldn't get geocoder to work, I'll use the .csv option"
   ]
  },
  {
   "cell_type": "code",
   "execution_count": 7,
   "metadata": {},
   "outputs": [
    {
     "name": "stderr",
     "output_type": "stream",
     "text": [
      "--2020-10-23 16:06:51--  https://cocl.us/Geospatial_data\n",
      "Resolving cocl.us (cocl.us)... 169.63.96.148, 169.63.96.51\n",
      "Connecting to cocl.us (cocl.us)|169.63.96.148|:443... connected.\n",
      "HTTP request sent, awaiting response... 301 Moved Permanently\n",
      "Location: https://ibm.box.com/shared/static/9afzr83pps4pwf2smjjcf1y5mvgb18rr.csv [following]\n",
      "--2020-10-23 16:06:52--  https://ibm.box.com/shared/static/9afzr83pps4pwf2smjjcf1y5mvgb18rr.csv\n",
      "Resolving ibm.box.com (ibm.box.com)... 185.235.236.197\n",
      "Connecting to ibm.box.com (ibm.box.com)|185.235.236.197|:443... connected.\n",
      "HTTP request sent, awaiting response... 301 Moved Permanently\n",
      "Location: /public/static/9afzr83pps4pwf2smjjcf1y5mvgb18rr.csv [following]\n",
      "--2020-10-23 16:06:52--  https://ibm.box.com/public/static/9afzr83pps4pwf2smjjcf1y5mvgb18rr.csv\n",
      "Reusing existing connection to ibm.box.com:443.\n",
      "HTTP request sent, awaiting response... 301 Moved Permanently\n",
      "Location: https://ibm.ent.box.com/public/static/9afzr83pps4pwf2smjjcf1y5mvgb18rr.csv [following]\n",
      "--2020-10-23 16:06:52--  https://ibm.ent.box.com/public/static/9afzr83pps4pwf2smjjcf1y5mvgb18rr.csv\n",
      "Resolving ibm.ent.box.com (ibm.ent.box.com)... 185.235.236.201\n",
      "Connecting to ibm.ent.box.com (ibm.ent.box.com)|185.235.236.201|:443... connected.\n",
      "HTTP request sent, awaiting response... 302 Found\n",
      "Location: https://public.boxcloud.com/d/1/b1!S89k8DSl-q_Zga6T5hD65i3QfCn5-1m2NngFMYIPRW_NA0CSZCeivZzLBMrjkEM4QQDLw70X2rtkT0wGxxRS8-PNMF14lEHo2QofLQ_RAxIw8G_fM8so4f4F1tU_H3VlUR4kfi3MDmokW_J4cEARGh5ID9LEGAAhVDwYwYsK6nlm5ut4AlpuQsJhWWQgUZHzi3ZsG6OkBUpyoRKs73HxWplxMVWtUU6cstywuwmFf84XCv8i8wELjf-Zi5AysO4q9hgNbUJwe4KMZsCnKKe-UklrkzUEzTmIAVajBoNYmnFEOgHarto7DxU5dOK91QQIosAarAynzpKpW5mUgx0J7wvdlRqt5qp00vGt3_2sH7rj3bZ-xwlB8V7Wf7w8YyKH3-OwsGAquT40Gt3X8uAbN3g4zlwYrt2_ywiXm2UQw-LlHXQiVkgpMOAl_uedpwyVkFItjnNMIiLj-mWJDc3E9HcgU9ZI8r9RU2XK6coankOz3Ab5cM-UweyqUSZaQcfsBGsjpSct-I_3L8ZNAKaJU0eqR4dOSzkIhKcK335FuborKabbkVShCR_fFOeveHdlUMlvs51ZGZYN0ZsGV_r7ekJnHQhUWIRv0gV32nVnJoutxNUCHzvN3a13O40iOGYobb8oNO0MDwL9PfQmSH9dwPgh2iDvukP7tBe8C21lh0eDz1cy2Ns8Lrmc1ZiVFKCo2ibzLvVY_tpgIjufNOWKAQm8O5SXv7Q0eGJW3Ql89p9xAZ0bhL4O1X8-fz9gQaIkS_bKivnybopPEEi65bFqCgiJ-5xAcQJ4QyZsN9I9eo-iGjs-g53OGTptI8694V480wE_6h-9gXJZtRmrI58RmJMVjqkCN1LypRDYNixCnmB1Dijr5AJkD_cGTqLDeYqcsGx4cRoY6r1ELLXw9QO51bzTQLLq7ymMw0kNXDGSsMn3jZTdq088NNOJ05TPxhwUEd1TH-5jsng7JoN30RCEup0BB-1qWzKh-R1y-eD21LKL8nVsfS0OdQRoEZ4B9liaUtWFelRn9jI-GdGUcScKK1s-ndJYhVTpnpdhhgb3A6ncSXG1jIaZm5hfqHURKjjBLMOxg2_gSs0XAdtYAj1tbZvdsCKOCNnHwjDodcvrwh_E0DGaI9wu8OlYDVAdp8zlZvPbkrkgN3P76eTlB0EvZmCTVp-G3KtU5gF9M5kLvpSPriWAYuCc2soAPcLJmhLs0RZO2qts1mXy5pJXZLp9sCm56PK-pRm5TE4NgOQiIiTZPceot9RU0gpy1R2rde3WG629dZE5uKC8mZBR3jZzlOq5VewM4q6tRgr5mt2COrwI8W2Ju6mky2GpHV28NZsWdHN5dea-m-uNvD-EkJYueH-7cPKqBgl-5HJd9cyNCeAWm4fuaN4Afmz96HlvU1mDij5jhLcITdvpI0TxwJVRyspMcsbUYua7s2b4xnGF2nY./download [following]\n",
      "--2020-10-23 16:06:53--  https://public.boxcloud.com/d/1/b1!S89k8DSl-q_Zga6T5hD65i3QfCn5-1m2NngFMYIPRW_NA0CSZCeivZzLBMrjkEM4QQDLw70X2rtkT0wGxxRS8-PNMF14lEHo2QofLQ_RAxIw8G_fM8so4f4F1tU_H3VlUR4kfi3MDmokW_J4cEARGh5ID9LEGAAhVDwYwYsK6nlm5ut4AlpuQsJhWWQgUZHzi3ZsG6OkBUpyoRKs73HxWplxMVWtUU6cstywuwmFf84XCv8i8wELjf-Zi5AysO4q9hgNbUJwe4KMZsCnKKe-UklrkzUEzTmIAVajBoNYmnFEOgHarto7DxU5dOK91QQIosAarAynzpKpW5mUgx0J7wvdlRqt5qp00vGt3_2sH7rj3bZ-xwlB8V7Wf7w8YyKH3-OwsGAquT40Gt3X8uAbN3g4zlwYrt2_ywiXm2UQw-LlHXQiVkgpMOAl_uedpwyVkFItjnNMIiLj-mWJDc3E9HcgU9ZI8r9RU2XK6coankOz3Ab5cM-UweyqUSZaQcfsBGsjpSct-I_3L8ZNAKaJU0eqR4dOSzkIhKcK335FuborKabbkVShCR_fFOeveHdlUMlvs51ZGZYN0ZsGV_r7ekJnHQhUWIRv0gV32nVnJoutxNUCHzvN3a13O40iOGYobb8oNO0MDwL9PfQmSH9dwPgh2iDvukP7tBe8C21lh0eDz1cy2Ns8Lrmc1ZiVFKCo2ibzLvVY_tpgIjufNOWKAQm8O5SXv7Q0eGJW3Ql89p9xAZ0bhL4O1X8-fz9gQaIkS_bKivnybopPEEi65bFqCgiJ-5xAcQJ4QyZsN9I9eo-iGjs-g53OGTptI8694V480wE_6h-9gXJZtRmrI58RmJMVjqkCN1LypRDYNixCnmB1Dijr5AJkD_cGTqLDeYqcsGx4cRoY6r1ELLXw9QO51bzTQLLq7ymMw0kNXDGSsMn3jZTdq088NNOJ05TPxhwUEd1TH-5jsng7JoN30RCEup0BB-1qWzKh-R1y-eD21LKL8nVsfS0OdQRoEZ4B9liaUtWFelRn9jI-GdGUcScKK1s-ndJYhVTpnpdhhgb3A6ncSXG1jIaZm5hfqHURKjjBLMOxg2_gSs0XAdtYAj1tbZvdsCKOCNnHwjDodcvrwh_E0DGaI9wu8OlYDVAdp8zlZvPbkrkgN3P76eTlB0EvZmCTVp-G3KtU5gF9M5kLvpSPriWAYuCc2soAPcLJmhLs0RZO2qts1mXy5pJXZLp9sCm56PK-pRm5TE4NgOQiIiTZPceot9RU0gpy1R2rde3WG629dZE5uKC8mZBR3jZzlOq5VewM4q6tRgr5mt2COrwI8W2Ju6mky2GpHV28NZsWdHN5dea-m-uNvD-EkJYueH-7cPKqBgl-5HJd9cyNCeAWm4fuaN4Afmz96HlvU1mDij5jhLcITdvpI0TxwJVRyspMcsbUYua7s2b4xnGF2nY./download\n",
      "Resolving public.boxcloud.com (public.boxcloud.com)... 185.235.236.200\n",
      "Connecting to public.boxcloud.com (public.boxcloud.com)|185.235.236.200|:443... connected.\n",
      "HTTP request sent, awaiting response... 200 OK\n",
      "Length: 2891 (2,8K) [text/csv]\n",
      "Saving to: 'coordinates.csv'\n",
      "\n",
      "     0K ..                                                    100% 14,5M=0s\n",
      "\n",
      "2020-10-23 16:06:54 (14,5 MB/s) - 'coordinates.csv' saved [2891/2891]\n",
      "\n"
     ]
    }
   ],
   "source": [
    "!wget -O coordinates.csv https://cocl.us/Geospatial_data"
   ]
  },
  {
   "cell_type": "markdown",
   "metadata": {},
   "source": [
    "The file is downloaded, let's load it into a dataframe."
   ]
  },
  {
   "cell_type": "code",
   "execution_count": 20,
   "metadata": {},
   "outputs": [
    {
     "data": {
      "text/html": [
       "<div>\n",
       "<style scoped>\n",
       "    .dataframe tbody tr th:only-of-type {\n",
       "        vertical-align: middle;\n",
       "    }\n",
       "\n",
       "    .dataframe tbody tr th {\n",
       "        vertical-align: top;\n",
       "    }\n",
       "\n",
       "    .dataframe thead th {\n",
       "        text-align: right;\n",
       "    }\n",
       "</style>\n",
       "<table border=\"1\" class=\"dataframe\">\n",
       "  <thead>\n",
       "    <tr style=\"text-align: right;\">\n",
       "      <th></th>\n",
       "      <th>Postal Code</th>\n",
       "      <th>Latitude</th>\n",
       "      <th>Longitude</th>\n",
       "    </tr>\n",
       "  </thead>\n",
       "  <tbody>\n",
       "    <tr>\n",
       "      <th>0</th>\n",
       "      <td>M1B</td>\n",
       "      <td>43.806686</td>\n",
       "      <td>-79.194353</td>\n",
       "    </tr>\n",
       "    <tr>\n",
       "      <th>1</th>\n",
       "      <td>M1C</td>\n",
       "      <td>43.784535</td>\n",
       "      <td>-79.160497</td>\n",
       "    </tr>\n",
       "    <tr>\n",
       "      <th>2</th>\n",
       "      <td>M1E</td>\n",
       "      <td>43.763573</td>\n",
       "      <td>-79.188711</td>\n",
       "    </tr>\n",
       "    <tr>\n",
       "      <th>3</th>\n",
       "      <td>M1G</td>\n",
       "      <td>43.770992</td>\n",
       "      <td>-79.216917</td>\n",
       "    </tr>\n",
       "    <tr>\n",
       "      <th>4</th>\n",
       "      <td>M1H</td>\n",
       "      <td>43.773136</td>\n",
       "      <td>-79.239476</td>\n",
       "    </tr>\n",
       "  </tbody>\n",
       "</table>\n",
       "</div>"
      ],
      "text/plain": [
       "  Postal Code   Latitude  Longitude\n",
       "0         M1B  43.806686 -79.194353\n",
       "1         M1C  43.784535 -79.160497\n",
       "2         M1E  43.763573 -79.188711\n",
       "3         M1G  43.770992 -79.216917\n",
       "4         M1H  43.773136 -79.239476"
      ]
     },
     "execution_count": 20,
     "metadata": {},
     "output_type": "execute_result"
    }
   ],
   "source": [
    "coordinates = pd.read_csv(\"coordinates.csv\")\n",
    "coordinates.head()"
   ]
  },
  {
   "cell_type": "markdown",
   "metadata": {},
   "source": [
    "Looks good, now let's add the coordinates to the toroto data frame by merging them (left on toronto)."
   ]
  },
  {
   "cell_type": "code",
   "execution_count": 25,
   "metadata": {},
   "outputs": [
    {
     "data": {
      "text/html": [
       "<div>\n",
       "<style scoped>\n",
       "    .dataframe tbody tr th:only-of-type {\n",
       "        vertical-align: middle;\n",
       "    }\n",
       "\n",
       "    .dataframe tbody tr th {\n",
       "        vertical-align: top;\n",
       "    }\n",
       "\n",
       "    .dataframe thead th {\n",
       "        text-align: right;\n",
       "    }\n",
       "</style>\n",
       "<table border=\"1\" class=\"dataframe\">\n",
       "  <thead>\n",
       "    <tr style=\"text-align: right;\">\n",
       "      <th></th>\n",
       "      <th>Postal Code</th>\n",
       "      <th>Borough</th>\n",
       "      <th>Neighbourhood</th>\n",
       "      <th>Latitude</th>\n",
       "      <th>Longitude</th>\n",
       "    </tr>\n",
       "  </thead>\n",
       "  <tbody>\n",
       "    <tr>\n",
       "      <th>0</th>\n",
       "      <td>M1B</td>\n",
       "      <td>Scarborough</td>\n",
       "      <td>Malvern, Rouge</td>\n",
       "      <td>43.806686</td>\n",
       "      <td>-79.194353</td>\n",
       "    </tr>\n",
       "    <tr>\n",
       "      <th>1</th>\n",
       "      <td>M1C</td>\n",
       "      <td>Scarborough</td>\n",
       "      <td>Rouge Hill, Port Union, Highland Creek</td>\n",
       "      <td>43.784535</td>\n",
       "      <td>-79.160497</td>\n",
       "    </tr>\n",
       "    <tr>\n",
       "      <th>2</th>\n",
       "      <td>M1E</td>\n",
       "      <td>Scarborough</td>\n",
       "      <td>Guildwood, Morningside, West Hill</td>\n",
       "      <td>43.763573</td>\n",
       "      <td>-79.188711</td>\n",
       "    </tr>\n",
       "    <tr>\n",
       "      <th>3</th>\n",
       "      <td>M1G</td>\n",
       "      <td>Scarborough</td>\n",
       "      <td>Woburn</td>\n",
       "      <td>43.770992</td>\n",
       "      <td>-79.216917</td>\n",
       "    </tr>\n",
       "    <tr>\n",
       "      <th>4</th>\n",
       "      <td>M1H</td>\n",
       "      <td>Scarborough</td>\n",
       "      <td>Cedarbrae</td>\n",
       "      <td>43.773136</td>\n",
       "      <td>-79.239476</td>\n",
       "    </tr>\n",
       "  </tbody>\n",
       "</table>\n",
       "</div>"
      ],
      "text/plain": [
       "  Postal Code      Borough                           Neighbourhood   Latitude  \\\n",
       "0         M1B  Scarborough                          Malvern, Rouge  43.806686   \n",
       "1         M1C  Scarborough  Rouge Hill, Port Union, Highland Creek  43.784535   \n",
       "2         M1E  Scarborough       Guildwood, Morningside, West Hill  43.763573   \n",
       "3         M1G  Scarborough                                  Woburn  43.770992   \n",
       "4         M1H  Scarborough                               Cedarbrae  43.773136   \n",
       "\n",
       "   Longitude  \n",
       "0 -79.194353  \n",
       "1 -79.160497  \n",
       "2 -79.188711  \n",
       "3 -79.216917  \n",
       "4 -79.239476  "
      ]
     },
     "execution_count": 25,
     "metadata": {},
     "output_type": "execute_result"
    }
   ],
   "source": [
    "toronto_merged = toronto.merge(coordinates, on=\"Postal Code\")\n",
    "toronto_merged.head()"
   ]
  },
  {
   "cell_type": "code",
   "execution_count": 26,
   "metadata": {},
   "outputs": [
    {
     "data": {
      "text/html": [
       "<div>\n",
       "<style scoped>\n",
       "    .dataframe tbody tr th:only-of-type {\n",
       "        vertical-align: middle;\n",
       "    }\n",
       "\n",
       "    .dataframe tbody tr th {\n",
       "        vertical-align: top;\n",
       "    }\n",
       "\n",
       "    .dataframe thead th {\n",
       "        text-align: right;\n",
       "    }\n",
       "</style>\n",
       "<table border=\"1\" class=\"dataframe\">\n",
       "  <thead>\n",
       "    <tr style=\"text-align: right;\">\n",
       "      <th></th>\n",
       "      <th>Postal Code</th>\n",
       "      <th>Borough</th>\n",
       "      <th>Neighbourhood</th>\n",
       "      <th>Latitude</th>\n",
       "      <th>Longitude</th>\n",
       "    </tr>\n",
       "  </thead>\n",
       "  <tbody>\n",
       "    <tr>\n",
       "      <th>98</th>\n",
       "      <td>M9N</td>\n",
       "      <td>York</td>\n",
       "      <td>Weston</td>\n",
       "      <td>43.706876</td>\n",
       "      <td>-79.518188</td>\n",
       "    </tr>\n",
       "    <tr>\n",
       "      <th>99</th>\n",
       "      <td>M9P</td>\n",
       "      <td>Etobicoke</td>\n",
       "      <td>Westmount</td>\n",
       "      <td>43.696319</td>\n",
       "      <td>-79.532242</td>\n",
       "    </tr>\n",
       "    <tr>\n",
       "      <th>100</th>\n",
       "      <td>M9R</td>\n",
       "      <td>Etobicoke</td>\n",
       "      <td>Kingsview Village, St. Phillips, Martin Grove ...</td>\n",
       "      <td>43.688905</td>\n",
       "      <td>-79.554724</td>\n",
       "    </tr>\n",
       "    <tr>\n",
       "      <th>101</th>\n",
       "      <td>M9V</td>\n",
       "      <td>Etobicoke</td>\n",
       "      <td>South Steeles, Silverstone, Humbergate, Jamest...</td>\n",
       "      <td>43.739416</td>\n",
       "      <td>-79.588437</td>\n",
       "    </tr>\n",
       "    <tr>\n",
       "      <th>102</th>\n",
       "      <td>M9W</td>\n",
       "      <td>Etobicoke</td>\n",
       "      <td>Northwest, West Humber - Clairville</td>\n",
       "      <td>43.706748</td>\n",
       "      <td>-79.594054</td>\n",
       "    </tr>\n",
       "  </tbody>\n",
       "</table>\n",
       "</div>"
      ],
      "text/plain": [
       "    Postal Code    Borough                                      Neighbourhood  \\\n",
       "98          M9N       York                                             Weston   \n",
       "99          M9P  Etobicoke                                          Westmount   \n",
       "100         M9R  Etobicoke  Kingsview Village, St. Phillips, Martin Grove ...   \n",
       "101         M9V  Etobicoke  South Steeles, Silverstone, Humbergate, Jamest...   \n",
       "102         M9W  Etobicoke                Northwest, West Humber - Clairville   \n",
       "\n",
       "      Latitude  Longitude  \n",
       "98   43.706876 -79.518188  \n",
       "99   43.696319 -79.532242  \n",
       "100  43.688905 -79.554724  \n",
       "101  43.739416 -79.588437  \n",
       "102  43.706748 -79.594054  "
      ]
     },
     "execution_count": 26,
     "metadata": {},
     "output_type": "execute_result"
    }
   ],
   "source": [
    "toronto_merged.tail()"
   ]
  },
  {
   "cell_type": "markdown",
   "metadata": {},
   "source": [
    "Good!"
   ]
  },
  {
   "cell_type": "markdown",
   "metadata": {},
   "source": [
    "## 3. Exploration and clustering"
   ]
  },
  {
   "cell_type": "code",
   "execution_count": 28,
   "metadata": {},
   "outputs": [],
   "source": [
    "from geopy.geocoders import Nominatim\n",
    "import folium"
   ]
  },
  {
   "cell_type": "markdown",
   "metadata": {},
   "source": [
    "Find the coordinates of Toronto"
   ]
  },
  {
   "cell_type": "code",
   "execution_count": 29,
   "metadata": {},
   "outputs": [
    {
     "name": "stdout",
     "output_type": "stream",
     "text": [
      "The geograpical coordinate of Toronto are 43.6534817, -79.3839347.\n"
     ]
    }
   ],
   "source": [
    "address = 'Toronto, ON'\n",
    "\n",
    "geolocator = Nominatim(user_agent=\"to_explorer\")\n",
    "location = geolocator.geocode(address)\n",
    "latitude = location.latitude\n",
    "longitude = location.longitude\n",
    "print('The geograpical coordinate of Toronto are {}, {}.'.format(latitude, longitude))"
   ]
  },
  {
   "cell_type": "markdown",
   "metadata": {},
   "source": [
    "Create a map of Toronto with the neighbourhoods"
   ]
  },
  {
   "cell_type": "code",
   "execution_count": 36,
   "metadata": {},
   "outputs": [
    {
     "data": {
      "text/html": [
       "<div style=\"width:100%;\"><div style=\"position:relative;width:100%;height:0;padding-bottom:60%;\"><span style=\"color:#565656\">Make this Notebook Trusted to load map: File -> Trust Notebook</span><iframe src=\"about:blank\" style=\"position:absolute;width:100%;height:100%;left:0;top:0;border:none !important;\" data-html=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 onload=\"this.contentDocument.open();this.contentDocument.write(atob(this.getAttribute('data-html')));this.contentDocument.close();\" allowfullscreen webkitallowfullscreen mozallowfullscreen></iframe></div></div>"
      ],
      "text/plain": [
       "<folium.folium.Map at 0x126971faca0>"
      ]
     },
     "execution_count": 36,
     "metadata": {},
     "output_type": "execute_result"
    }
   ],
   "source": [
    "map_toronto = folium.Map(location=[latitude, longitude], zoom_start=10)\n",
    "\n",
    "# add markers to map\n",
    "for lat, lng, postcode, borough, neighbourhood in zip(toronto_merged['Latitude'], toronto_merged['Longitude'], toronto_merged['Postal Code'], toronto_merged['Borough'], toronto_merged['Neighbourhood']):\n",
    "    label = '{} - {} - {}'.format(neighbourhood, borough, postcode)\n",
    "    label = folium.Popup(label, parse_html=True)\n",
    "    folium.CircleMarker(\n",
    "        [lat, lng],\n",
    "        radius=5,\n",
    "        popup=label,\n",
    "        color='blue',\n",
    "        fill=True,\n",
    "        fill_color='#3186cc',\n",
    "        fill_opacity=0.7,\n",
    "        parse_html=False).add_to(map_toronto)  \n",
    "    \n",
    "map_toronto"
   ]
  },
  {
   "cell_type": "code",
   "execution_count": null,
   "metadata": {},
   "outputs": [],
   "source": []
  }
 ],
 "metadata": {
  "kernelspec": {
   "display_name": "Python 3",
   "language": "python",
   "name": "python3"
  },
  "language_info": {
   "codemirror_mode": {
    "name": "ipython",
    "version": 3
   },
   "file_extension": ".py",
   "mimetype": "text/x-python",
   "name": "python",
   "nbconvert_exporter": "python",
   "pygments_lexer": "ipython3",
   "version": "3.8.3"
  }
 },
 "nbformat": 4,
 "nbformat_minor": 4
}
